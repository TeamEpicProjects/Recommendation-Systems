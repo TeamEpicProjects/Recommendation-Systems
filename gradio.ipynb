{
 "cells": [
  {
   "cell_type": "code",
   "execution_count": 2,
   "metadata": {},
   "outputs": [
    {
     "name": "stdout",
     "output_type": "stream",
     "text": [
      "Running on local URL:  http://127.0.0.1:7860\n",
      "\n",
      "To create a public link, set `share=True` in `launch()`.\n"
     ]
    },
    {
     "data": {
      "text/html": [
       "<div><iframe src=\"http://127.0.0.1:7860/\" width=\"100%\" height=\"500\" allow=\"autoplay; camera; microphone; clipboard-read; clipboard-write;\" frameborder=\"0\" allowfullscreen></iframe></div>"
      ],
      "text/plain": [
       "<IPython.core.display.HTML object>"
      ]
     },
     "metadata": {},
     "output_type": "display_data"
    },
    {
     "data": {
      "text/plain": []
     },
     "execution_count": 2,
     "metadata": {},
     "output_type": "execute_result"
    },
    {
     "name": "stderr",
     "output_type": "stream",
     "text": [
      "Traceback (most recent call last):\n",
      "  File \"C:\\Users\\SaiRamMaganti\\anaconda3\\lib\\site-packages\\gradio\\routes.py\", line 395, in run_predict\n",
      "    output = await app.get_blocks().process_api(\n",
      "  File \"C:\\Users\\SaiRamMaganti\\anaconda3\\lib\\site-packages\\gradio\\blocks.py\", line 1193, in process_api\n",
      "    result = await self.call_function(\n",
      "  File \"C:\\Users\\SaiRamMaganti\\anaconda3\\lib\\site-packages\\gradio\\blocks.py\", line 916, in call_function\n",
      "    prediction = await anyio.to_thread.run_sync(\n",
      "  File \"C:\\Users\\SaiRamMaganti\\anaconda3\\lib\\site-packages\\anyio\\to_thread.py\", line 28, in run_sync\n",
      "    return await get_asynclib().run_sync_in_worker_thread(func, *args, cancellable=cancellable,\n",
      "  File \"C:\\Users\\SaiRamMaganti\\anaconda3\\lib\\site-packages\\anyio\\_backends\\_asyncio.py\", line 818, in run_sync_in_worker_thread\n",
      "    return await future\n",
      "  File \"C:\\Users\\SaiRamMaganti\\anaconda3\\lib\\site-packages\\anyio\\_backends\\_asyncio.py\", line 754, in run\n",
      "    result = context.run(func, *args)\n",
      "  File \"C:\\Users\\SaiRamMaganti\\AppData\\Local\\Temp\\ipykernel_4996\\47364177.py\", line 11, in predict\n",
      "    import surprise\n",
      "ModuleNotFoundError: No module named 'surprise'\n",
      "Traceback (most recent call last):\n",
      "  File \"C:\\Users\\SaiRamMaganti\\anaconda3\\lib\\site-packages\\gradio\\routes.py\", line 395, in run_predict\n",
      "    output = await app.get_blocks().process_api(\n",
      "  File \"C:\\Users\\SaiRamMaganti\\anaconda3\\lib\\site-packages\\gradio\\blocks.py\", line 1193, in process_api\n",
      "    result = await self.call_function(\n",
      "  File \"C:\\Users\\SaiRamMaganti\\anaconda3\\lib\\site-packages\\gradio\\blocks.py\", line 916, in call_function\n",
      "    prediction = await anyio.to_thread.run_sync(\n",
      "  File \"C:\\Users\\SaiRamMaganti\\anaconda3\\lib\\site-packages\\anyio\\to_thread.py\", line 28, in run_sync\n",
      "    return await get_asynclib().run_sync_in_worker_thread(func, *args, cancellable=cancellable,\n",
      "  File \"C:\\Users\\SaiRamMaganti\\anaconda3\\lib\\site-packages\\anyio\\_backends\\_asyncio.py\", line 818, in run_sync_in_worker_thread\n",
      "    return await future\n",
      "  File \"C:\\Users\\SaiRamMaganti\\anaconda3\\lib\\site-packages\\anyio\\_backends\\_asyncio.py\", line 754, in run\n",
      "    result = context.run(func, *args)\n",
      "  File \"C:\\Users\\SaiRamMaganti\\AppData\\Local\\Temp\\ipykernel_4996\\47364177.py\", line 11, in predict\n",
      "    import surprise\n",
      "ModuleNotFoundError: No module named 'surprise'\n"
     ]
    }
   ],
   "source": [
    "import gradio as gr\n",
    "\n",
    "import pandas as pd\n",
    "import numpy as np\n",
    "\n",
    "def predict(user):\n",
    "    \n",
    "    \n",
    "    \n",
    "    import pandas as pd\n",
    "    import surprise \n",
    "    from surprise.dump import dump,load\n",
    "    \n",
    "    colab_df = pd.read_csv('colab_df.csv')\n",
    "\n",
    "    alg = load('svd.pkl')[1]\n",
    "\n",
    "    items = colab_df['itemID'].unique()\n",
    "    bi_items = colab_df[colab_df.userID == user].itemID.unique()\n",
    "    anti_test = items[np.isin( items, bi_items) == False]\n",
    "\n",
    "\n",
    "    test = [[user, iid, 4] for iid in anti_test]\n",
    "    predictions = alg.test(test)\n",
    "    pred = pd.DataFrame(predictions)\n",
    "    pred = pred.sort_values(by='est', ascending=False)\n",
    "    rec = pd.DataFrame(pred.iid.head(10))\n",
    "    \n",
    "    return rec\n",
    "\n",
    "\n",
    "with gr.Blocks() as demo:\n",
    "    \n",
    "    gr.Markdown(\n",
    "        \"\"\"\n",
    "    # Recommendation Engine using SVD\n",
    "    \n",
    "    user-based collaborative filtering \n",
    "    \n",
    "    \"\"\"\n",
    "    )\n",
    "    user = gr.Textbox(label=\"User ID\")\n",
    "    output = gr.DataFrame(row_count = (2, \"dynamic\"), col_count=(1, \"fixed\"), label=\"Recommended products\")\n",
    "    greet_btn = gr.Button(\"Recommend\")\n",
    "    greet_btn.click(fn=predict, inputs=user, outputs=output)\n",
    "    \n",
    "    examples = gr.Examples(examples = [\"A3Z74TDRGD0HU\", \"A1FBAQLQTOQT4K\",\"AQKT85NW8Z5ZP\", \"A8QULA2ET6BGQ\"], inputs = user)\n",
    "    \n",
    "\n",
    "demo.launch()"
   ]
  },
  {
   "cell_type": "code",
   "execution_count": null,
   "metadata": {},
   "outputs": [],
   "source": [
    "! pip install surprise"
   ]
  },
  {
   "cell_type": "code",
   "execution_count": null,
   "metadata": {},
   "outputs": [],
   "source": []
  }
 ],
 "metadata": {
  "kernelspec": {
   "display_name": "Python 3 (ipykernel)",
   "language": "python",
   "name": "python3"
  },
  "language_info": {
   "codemirror_mode": {
    "name": "ipython",
    "version": 3
   },
   "file_extension": ".py",
   "mimetype": "text/x-python",
   "name": "python",
   "nbconvert_exporter": "python",
   "pygments_lexer": "ipython3",
   "version": "3.9.13"
  }
 },
 "nbformat": 4,
 "nbformat_minor": 4
}
