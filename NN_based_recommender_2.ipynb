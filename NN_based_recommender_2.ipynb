{
  "nbformat": 4,
  "nbformat_minor": 0,
  "metadata": {
    "colab": {
      "provenance": []
    },
    "kernelspec": {
      "name": "python3",
      "display_name": "Python 3"
    },
    "language_info": {
      "name": "python"
    }
  },
  "cells": [
    {
      "cell_type": "code",
      "execution_count": 1,
      "metadata": {
        "id": "_J6fH2KeKzeb"
      },
      "outputs": [],
      "source": [
        "import pandas as pd\n",
        "import numpy as np"
      ]
    },
    {
      "cell_type": "code",
      "source": [
        "df = pd.read_csv('/content/drive/MyDrive/Colab Notebooks/reviews_and_metadata.csv')"
      ],
      "metadata": {
        "id": "a0u4UdVyLStH"
      },
      "execution_count": 2,
      "outputs": []
    },
    {
      "cell_type": "code",
      "source": [
        "df.shape"
      ],
      "metadata": {
        "colab": {
          "base_uri": "https://localhost:8080/"
        },
        "id": "I6QNBshhU4Pg",
        "outputId": "02528a48-b942-4493-bd2a-703dfd856c94"
      },
      "execution_count": 3,
      "outputs": [
        {
          "output_type": "execute_result",
          "data": {
            "text/plain": [
              "(183215, 18)"
            ]
          },
          "metadata": {},
          "execution_count": 3
        }
      ]
    },
    {
      "cell_type": "code",
      "source": [
        "df['description'] = df['description'].str.replace(',', '').str.replace('[','').str.replace(']','')\n",
        "df['description'] = df['description'].str.replace('\"', '')\n",
        "df['description'] = df['description'].str.replace(\"'\", '')"
      ],
      "metadata": {
        "colab": {
          "base_uri": "https://localhost:8080/"
        },
        "id": "QJXA9pwPTZMu",
        "outputId": "1a665b14-744a-4785-9c9b-96094788462f"
      },
      "execution_count": 4,
      "outputs": [
        {
          "output_type": "stream",
          "name": "stderr",
          "text": [
            "<ipython-input-4-a6dc141f8de9>:1: FutureWarning: The default value of regex will change from True to False in a future version. In addition, single character regular expressions will *not* be treated as literal strings when regex=True.\n",
            "  df['description'] = df['description'].str.replace(',', '').str.replace('[','').str.replace(']','')\n"
          ]
        }
      ]
    },
    {
      "cell_type": "markdown",
      "source": [
        "**Preprocess and vectorize the title**"
      ],
      "metadata": {
        "id": "k7Yz43R_NwpD"
      }
    },
    {
      "cell_type": "code",
      "source": [
        "\n",
        "import gensim\n",
        "from gensim.models import Word2Vec\n",
        "\n",
        "\n",
        "# Preprocess the text by tokenizing and removing stop words\n",
        "import nltk\n",
        "nltk.download('stopwords')\n",
        "nltk.download('punkt')\n",
        "from nltk.tokenize import word_tokenize\n",
        "from nltk.corpus import stopwords\n",
        "stop_words = set(stopwords.words('english'))\n",
        "\n",
        "def preprocess_text(text):\n",
        "    tokens = word_tokenize(text.lower())\n",
        "    tokens = [t for t in tokens if t.isalpha() and t not in stop_words]\n",
        "    return tokens\n",
        "\n",
        "df['title_tokens'] = df['title'].apply(preprocess_text)\n",
        "\n",
        "# Train the Word2Vec model on the title tokens\n",
        "word2vec_model = Word2Vec(df['title_tokens'], min_count=1, vector_size=100)\n",
        "\n",
        "# Define a function to encode a sequence of tokens as a single vector\n",
        "def encode_sequence(tokens, model):\n",
        "    vec = np.zeros(model.vector_size)\n",
        "    count = 0\n",
        "    for token in tokens:\n",
        "        if token in model.wv.key_to_index:\n",
        "            vec += model.wv.get_vector(token)\n",
        "            count += 1\n",
        "    if count > 0:\n",
        "        vec /= count\n",
        "    return vec\n",
        "\n",
        "# Encode the title tokens as vectors using the Word2Vec model\n",
        "df['title_vectors'] = df['title_tokens'].apply(lambda tokens: encode_sequence(tokens, word2vec_model))\n"
      ],
      "metadata": {
        "id": "LyLYTzxku1s-",
        "colab": {
          "base_uri": "https://localhost:8080/"
        },
        "outputId": "09b5f94d-294e-4b19-b8a7-414d11e89f43"
      },
      "execution_count": 5,
      "outputs": [
        {
          "output_type": "stream",
          "name": "stderr",
          "text": [
            "[nltk_data] Downloading package stopwords to /root/nltk_data...\n",
            "[nltk_data]   Unzipping corpora/stopwords.zip.\n",
            "[nltk_data] Downloading package punkt to /root/nltk_data...\n",
            "[nltk_data]   Unzipping tokenizers/punkt.zip.\n"
          ]
        }
      ]
    },
    {
      "cell_type": "code",
      "source": [
        "pd.DataFrame(df['title'].unique())"
      ],
      "metadata": {
        "colab": {
          "base_uri": "https://localhost:8080/",
          "height": 423
        },
        "id": "zYR1yMhQ4Dx7",
        "outputId": "d5d9de88-a4f3-4e9a-edf4-fdbf657e4f03"
      },
      "execution_count": 6,
      "outputs": [
        {
          "output_type": "execute_result",
          "data": {
            "text/plain": [
              "                                                      0\n",
              "0     Crabtree &amp; Evelyn - Gardener's Ultra-Moist...\n",
              "1                                      AHAVA Bath Salts\n",
              "2                        Supersmile Powdered Mouthrinse\n",
              "3     Supersmile Professional Teeth Whitening Toothp...\n",
              "4        Archipelago Morning Mint Body Lotion ,18 Fl Oz\n",
              "...                                                 ...\n",
              "2231              Laura Geller New York Brow Gel Pencil\n",
              "2232                     butter LONDON Glazen Eye Gloss\n",
              "2233                          butter LONDON Nail Polish\n",
              "2234    ORIBE Bright Blonde Shampoo for Beautiful Color\n",
              "2235  Vita Liberata Body Blur Instant HD Skin Finish...\n",
              "\n",
              "[2236 rows x 1 columns]"
            ],
            "text/html": [
              "\n",
              "  <div id=\"df-cd251875-44e1-4965-bc72-8813bbd86aea\">\n",
              "    <div class=\"colab-df-container\">\n",
              "      <div>\n",
              "<style scoped>\n",
              "    .dataframe tbody tr th:only-of-type {\n",
              "        vertical-align: middle;\n",
              "    }\n",
              "\n",
              "    .dataframe tbody tr th {\n",
              "        vertical-align: top;\n",
              "    }\n",
              "\n",
              "    .dataframe thead th {\n",
              "        text-align: right;\n",
              "    }\n",
              "</style>\n",
              "<table border=\"1\" class=\"dataframe\">\n",
              "  <thead>\n",
              "    <tr style=\"text-align: right;\">\n",
              "      <th></th>\n",
              "      <th>0</th>\n",
              "    </tr>\n",
              "  </thead>\n",
              "  <tbody>\n",
              "    <tr>\n",
              "      <th>0</th>\n",
              "      <td>Crabtree &amp;amp; Evelyn - Gardener's Ultra-Moist...</td>\n",
              "    </tr>\n",
              "    <tr>\n",
              "      <th>1</th>\n",
              "      <td>AHAVA Bath Salts</td>\n",
              "    </tr>\n",
              "    <tr>\n",
              "      <th>2</th>\n",
              "      <td>Supersmile Powdered Mouthrinse</td>\n",
              "    </tr>\n",
              "    <tr>\n",
              "      <th>3</th>\n",
              "      <td>Supersmile Professional Teeth Whitening Toothp...</td>\n",
              "    </tr>\n",
              "    <tr>\n",
              "      <th>4</th>\n",
              "      <td>Archipelago Morning Mint Body Lotion ,18 Fl Oz</td>\n",
              "    </tr>\n",
              "    <tr>\n",
              "      <th>...</th>\n",
              "      <td>...</td>\n",
              "    </tr>\n",
              "    <tr>\n",
              "      <th>2231</th>\n",
              "      <td>Laura Geller New York Brow Gel Pencil</td>\n",
              "    </tr>\n",
              "    <tr>\n",
              "      <th>2232</th>\n",
              "      <td>butter LONDON Glazen Eye Gloss</td>\n",
              "    </tr>\n",
              "    <tr>\n",
              "      <th>2233</th>\n",
              "      <td>butter LONDON Nail Polish</td>\n",
              "    </tr>\n",
              "    <tr>\n",
              "      <th>2234</th>\n",
              "      <td>ORIBE Bright Blonde Shampoo for Beautiful Color</td>\n",
              "    </tr>\n",
              "    <tr>\n",
              "      <th>2235</th>\n",
              "      <td>Vita Liberata Body Blur Instant HD Skin Finish...</td>\n",
              "    </tr>\n",
              "  </tbody>\n",
              "</table>\n",
              "<p>2236 rows × 1 columns</p>\n",
              "</div>\n",
              "      <button class=\"colab-df-convert\" onclick=\"convertToInteractive('df-cd251875-44e1-4965-bc72-8813bbd86aea')\"\n",
              "              title=\"Convert this dataframe to an interactive table.\"\n",
              "              style=\"display:none;\">\n",
              "        \n",
              "  <svg xmlns=\"http://www.w3.org/2000/svg\" height=\"24px\"viewBox=\"0 0 24 24\"\n",
              "       width=\"24px\">\n",
              "    <path d=\"M0 0h24v24H0V0z\" fill=\"none\"/>\n",
              "    <path d=\"M18.56 5.44l.94 2.06.94-2.06 2.06-.94-2.06-.94-.94-2.06-.94 2.06-2.06.94zm-11 1L8.5 8.5l.94-2.06 2.06-.94-2.06-.94L8.5 2.5l-.94 2.06-2.06.94zm10 10l.94 2.06.94-2.06 2.06-.94-2.06-.94-.94-2.06-.94 2.06-2.06.94z\"/><path d=\"M17.41 7.96l-1.37-1.37c-.4-.4-.92-.59-1.43-.59-.52 0-1.04.2-1.43.59L10.3 9.45l-7.72 7.72c-.78.78-.78 2.05 0 2.83L4 21.41c.39.39.9.59 1.41.59.51 0 1.02-.2 1.41-.59l7.78-7.78 2.81-2.81c.8-.78.8-2.07 0-2.86zM5.41 20L4 18.59l7.72-7.72 1.47 1.35L5.41 20z\"/>\n",
              "  </svg>\n",
              "      </button>\n",
              "      \n",
              "  <style>\n",
              "    .colab-df-container {\n",
              "      display:flex;\n",
              "      flex-wrap:wrap;\n",
              "      gap: 12px;\n",
              "    }\n",
              "\n",
              "    .colab-df-convert {\n",
              "      background-color: #E8F0FE;\n",
              "      border: none;\n",
              "      border-radius: 50%;\n",
              "      cursor: pointer;\n",
              "      display: none;\n",
              "      fill: #1967D2;\n",
              "      height: 32px;\n",
              "      padding: 0 0 0 0;\n",
              "      width: 32px;\n",
              "    }\n",
              "\n",
              "    .colab-df-convert:hover {\n",
              "      background-color: #E2EBFA;\n",
              "      box-shadow: 0px 1px 2px rgba(60, 64, 67, 0.3), 0px 1px 3px 1px rgba(60, 64, 67, 0.15);\n",
              "      fill: #174EA6;\n",
              "    }\n",
              "\n",
              "    [theme=dark] .colab-df-convert {\n",
              "      background-color: #3B4455;\n",
              "      fill: #D2E3FC;\n",
              "    }\n",
              "\n",
              "    [theme=dark] .colab-df-convert:hover {\n",
              "      background-color: #434B5C;\n",
              "      box-shadow: 0px 1px 3px 1px rgba(0, 0, 0, 0.15);\n",
              "      filter: drop-shadow(0px 1px 2px rgba(0, 0, 0, 0.3));\n",
              "      fill: #FFFFFF;\n",
              "    }\n",
              "  </style>\n",
              "\n",
              "      <script>\n",
              "        const buttonEl =\n",
              "          document.querySelector('#df-cd251875-44e1-4965-bc72-8813bbd86aea button.colab-df-convert');\n",
              "        buttonEl.style.display =\n",
              "          google.colab.kernel.accessAllowed ? 'block' : 'none';\n",
              "\n",
              "        async function convertToInteractive(key) {\n",
              "          const element = document.querySelector('#df-cd251875-44e1-4965-bc72-8813bbd86aea');\n",
              "          const dataTable =\n",
              "            await google.colab.kernel.invokeFunction('convertToInteractive',\n",
              "                                                     [key], {});\n",
              "          if (!dataTable) return;\n",
              "\n",
              "          const docLinkHtml = 'Like what you see? Visit the ' +\n",
              "            '<a target=\"_blank\" href=https://colab.research.google.com/notebooks/data_table.ipynb>data table notebook</a>'\n",
              "            + ' to learn more about interactive tables.';\n",
              "          element.innerHTML = '';\n",
              "          dataTable['output_type'] = 'display_data';\n",
              "          await google.colab.output.renderOutput(dataTable, element);\n",
              "          const docLink = document.createElement('div');\n",
              "          docLink.innerHTML = docLinkHtml;\n",
              "          element.appendChild(docLink);\n",
              "        }\n",
              "      </script>\n",
              "    </div>\n",
              "  </div>\n",
              "  "
            ]
          },
          "metadata": {},
          "execution_count": 6
        }
      ]
    },
    {
      "cell_type": "code",
      "source": [
        "df['title_vectors']"
      ],
      "metadata": {
        "id": "bJyRa9yf4onH",
        "colab": {
          "base_uri": "https://localhost:8080/"
        },
        "outputId": "43197298-dbc6-48ff-85a9-3cdc2951f2e7"
      },
      "execution_count": 7,
      "outputs": [
        {
          "output_type": "execute_result",
          "data": {
            "text/plain": [
              "0         [0.09021070785820484, 0.6161754429340363, -0.2...\n",
              "1         [0.09021070785820484, 0.6161754429340363, -0.2...\n",
              "2         [0.09021070785820484, 0.6161754429340363, -0.2...\n",
              "3         [0.09021070785820484, 0.6161754429340363, -0.2...\n",
              "4         [0.09021070785820484, 0.6161754429340363, -0.2...\n",
              "                                ...                        \n",
              "183210    [0.7698620896786451, 0.32980798184871674, 0.09...\n",
              "183211    [0.7698620896786451, 0.32980798184871674, 0.09...\n",
              "183212    [0.7698620896786451, 0.32980798184871674, 0.09...\n",
              "183213    [0.7698620896786451, 0.32980798184871674, 0.09...\n",
              "183214    [0.7698620896786451, 0.32980798184871674, 0.09...\n",
              "Name: title_vectors, Length: 183215, dtype: object"
            ]
          },
          "metadata": {},
          "execution_count": 7
        }
      ]
    },
    {
      "cell_type": "code",
      "source": [
        "# Saving the vectorizer for later use\n",
        "\n",
        "'''\n",
        "import pickle\n",
        "with open('word2vec_model.pkl', 'wb') as f:\n",
        "    pickle.dump(word2vec_model, f)\n",
        "\n",
        "'''"
      ],
      "metadata": {
        "colab": {
          "base_uri": "https://localhost:8080/",
          "height": 36
        },
        "id": "BLK6c12Wcqbo",
        "outputId": "64ac5fb5-69c4-4365-f9c0-fc135c30278a"
      },
      "execution_count": null,
      "outputs": [
        {
          "output_type": "execute_result",
          "data": {
            "text/plain": [
              "\"\\nimport pickle\\nwith open('word2vec_model.pkl', 'wb') as f:\\n    pickle.dump(word2vec_model, f)\\n\\n\""
            ],
            "application/vnd.google.colaboratory.intrinsic+json": {
              "type": "string"
            }
          },
          "metadata": {},
          "execution_count": 9
        }
      ]
    },
    {
      "cell_type": "markdown",
      "source": [
        "**Label Encoding the reviewer ID column**"
      ],
      "metadata": {
        "id": "3xzcQ2Y6TJKr"
      }
    },
    {
      "cell_type": "code",
      "source": [
        "from sklearn.preprocessing import LabelEncoder\n",
        "\n",
        "# Create a label encoder\n",
        "label_encoder = LabelEncoder()\n",
        "\n",
        "# Fit the label encoder on the user_id column\n",
        "label_encoder.fit(df['reviewerID'])\n",
        "\n",
        "# Transform the user_id column into a numerical format\n",
        "df['reviewerID_encoded'] = label_encoder.transform(df['reviewerID'])\n",
        "\n"
      ],
      "metadata": {
        "id": "W8sLIpQcPQoD"
      },
      "execution_count": 8,
      "outputs": []
    },
    {
      "cell_type": "code",
      "source": [
        "# Saving the label encoder\n",
        "\n",
        "'''\n",
        "with open('label_encoder.pkl', 'wb') as f:\n",
        "    pickle.dump(label_encoder, f)\n",
        "\n",
        "'''"
      ],
      "metadata": {
        "colab": {
          "base_uri": "https://localhost:8080/",
          "height": 36
        },
        "id": "8C4J8aOgdIlI",
        "outputId": "6f59867e-7c50-4368-b4c7-fed8b495a9c0"
      },
      "execution_count": null,
      "outputs": [
        {
          "output_type": "execute_result",
          "data": {
            "text/plain": [
              "\"\\nwith open('label_encoder.pkl', 'wb') as f:\\n    pickle.dump(label_encoder, f)\\n\\n\""
            ],
            "application/vnd.google.colaboratory.intrinsic+json": {
              "type": "string"
            }
          },
          "metadata": {},
          "execution_count": 11
        }
      ]
    },
    {
      "cell_type": "markdown",
      "source": [
        "**Creating a column**\n",
        "\n",
        "What I am trying to do here is, I am creating a column titled \"RecommendFlag\" which has binary values 0/1. If the rating of the product is above 4, it means that it is a good product and the RecommendFlag value for that product will be 1. Otherwise it will be 0. This is going to be the target variable for the classification neural network."
      ],
      "metadata": {
        "id": "fqQ8RVe1V2Pl"
      }
    },
    {
      "cell_type": "code",
      "source": [
        "# Create a new column called RecommendFlag\n",
        "df['RecommendFlag'] = (df['overall'] > 4).astype(int)\n"
      ],
      "metadata": {
        "id": "r1JqiQXYQjSE"
      },
      "execution_count": 9,
      "outputs": []
    },
    {
      "cell_type": "code",
      "source": [
        "df['RecommendFlag'].value_counts()"
      ],
      "metadata": {
        "colab": {
          "base_uri": "https://localhost:8080/"
        },
        "id": "OQdQJtb5sfVE",
        "outputId": "47c2eaa6-b40f-4059-e5a3-e06d95b082d4"
      },
      "execution_count": 10,
      "outputs": [
        {
          "output_type": "execute_result",
          "data": {
            "text/plain": [
              "1    125979\n",
              "0     57236\n",
              "Name: RecommendFlag, dtype: int64"
            ]
          },
          "metadata": {},
          "execution_count": 10
        }
      ]
    },
    {
      "cell_type": "code",
      "source": [
        "# Now, I will save this updated dataset for later use\n",
        "\n",
        "#df.to_csv('reviews_and_metadata_updated.csv')"
      ],
      "metadata": {
        "id": "leYBBE0YI9Da"
      },
      "execution_count": null,
      "outputs": []
    },
    {
      "cell_type": "markdown",
      "source": [
        "**Neural Network model**"
      ],
      "metadata": {
        "id": "dVIHjExQz5rk"
      }
    },
    {
      "cell_type": "code",
      "source": [
        "import numpy as np\n",
        "from keras.models import Sequential\n",
        "from keras.layers import Dense, Dropout, Input, concatenate\n",
        "from keras.models import Model\n",
        "from sklearn.preprocessing import StandardScaler\n",
        "from tensorflow.keras.losses import MeanSquaredError\n",
        "from tensorflow.keras.metrics import RootMeanSquaredError\n",
        "\n",
        "\n",
        "# Load the dataset\n",
        "X_title = np.array(df['title_vectors'].tolist())\n",
        "X_user = np.array(df['reviewerID_encoded'])\n",
        "\n",
        "# Normalize the user input data\n",
        "scaler = StandardScaler()\n",
        "X_user = scaler.fit_transform(X_user.reshape(-1, 1))\n",
        "\n",
        "y = np.array(df['RecommendFlag'])\n",
        "\n",
        "# Split the data into training and testing sets\n",
        "from sklearn.model_selection import train_test_split\n",
        "X_title_train, X_title_test, X_user_train, X_user_test, y_train, y_test = train_test_split(X_title, X_user, y, test_size=0.2)\n",
        "\n",
        "\n",
        "# Define the neural network architecture\n",
        "input_title = Input(shape=(X_title.shape[1],))\n",
        "input_user = Input(shape=(1,))\n",
        "x1 = Dense(64, activation='relu')(input_title)\n",
        "x2 = Dense(64, activation='relu')(input_user)\n",
        "merged = concatenate([x1, x2])\n",
        "merged = Dropout(0.5)(merged)\n",
        "output = Dense(1, activation='sigmoid')(merged)\n",
        "\n",
        "model = Model(inputs=[input_title, input_user], outputs=output)\n",
        "\n",
        "# Compile the model\n",
        "#model.compile(loss='binary_crossentropy', optimizer='adam', metrics=['accuracy'])\n",
        "model.compile(optimizer='adam', loss=MeanSquaredError(), metrics=[RootMeanSquaredError()])\n",
        "\n",
        "# Train the model\n",
        "model.fit([X_title_train, X_user_train],y_train, epochs=10, batch_size=32)\n",
        "\n",
        "# Evaluate the model on the testing set\n",
        "test_loss, test_rmse = model.evaluate([X_title_test, X_user_test], y_test)\n",
        "\n",
        "print(f'Test rmse: {test_rmse}')"
      ],
      "metadata": {
        "colab": {
          "base_uri": "https://localhost:8080/"
        },
        "id": "NrYcMKCgYFhX",
        "outputId": "a302a6d2-b76e-4326-a8a4-52f6e140e6c7"
      },
      "execution_count": 12,
      "outputs": [
        {
          "output_type": "stream",
          "name": "stdout",
          "text": [
            "Epoch 1/10\n",
            "4581/4581 [==============================] - 6s 1ms/step - loss: 0.2141 - root_mean_squared_error: 0.4628\n",
            "Epoch 2/10\n",
            "4581/4581 [==============================] - 6s 1ms/step - loss: 0.2117 - root_mean_squared_error: 0.4601\n",
            "Epoch 3/10\n",
            "4581/4581 [==============================] - 6s 1ms/step - loss: 0.2110 - root_mean_squared_error: 0.4593\n",
            "Epoch 4/10\n",
            "4581/4581 [==============================] - 6s 1ms/step - loss: 0.2107 - root_mean_squared_error: 0.4590\n",
            "Epoch 5/10\n",
            "4581/4581 [==============================] - 6s 1ms/step - loss: 0.2103 - root_mean_squared_error: 0.4585\n",
            "Epoch 6/10\n",
            "4581/4581 [==============================] - 6s 1ms/step - loss: 0.2101 - root_mean_squared_error: 0.4584\n",
            "Epoch 7/10\n",
            "4581/4581 [==============================] - 6s 1ms/step - loss: 0.2099 - root_mean_squared_error: 0.4581\n",
            "Epoch 8/10\n",
            "4581/4581 [==============================] - 8s 2ms/step - loss: 0.2098 - root_mean_squared_error: 0.4580\n",
            "Epoch 9/10\n",
            "4581/4581 [==============================] - 6s 1ms/step - loss: 0.2098 - root_mean_squared_error: 0.4580\n",
            "Epoch 10/10\n",
            "4581/4581 [==============================] - 6s 1ms/step - loss: 0.2095 - root_mean_squared_error: 0.4577\n",
            "1146/1146 [==============================] - 1s 945us/step - loss: 0.2090 - root_mean_squared_error: 0.4572\n",
            "Test rmse: 0.45719361305236816\n"
          ]
        }
      ]
    },
    {
      "cell_type": "code",
      "source": [],
      "metadata": {
        "id": "xca8NIq18_qg"
      },
      "execution_count": null,
      "outputs": []
    },
    {
      "cell_type": "code",
      "source": [
        "# Saving the model for later use\n",
        "\n",
        "#model.save('neural_recommendation_model.h5')"
      ],
      "metadata": {
        "id": "71FJHnuWeIZT"
      },
      "execution_count": null,
      "outputs": []
    },
    {
      "cell_type": "code",
      "source": [
        "# Saving the StandardScaler\n",
        "'''\n",
        "import pickle\n",
        "with open('scaler.pkl', 'wb') as f:\n",
        "    pickle.dump(scaler, f)\n",
        "'''"
      ],
      "metadata": {
        "id": "sNeBo8V8iSzm",
        "colab": {
          "base_uri": "https://localhost:8080/",
          "height": 36
        },
        "outputId": "c52907da-96ca-4dfd-e65e-fd14dcfb092e"
      },
      "execution_count": null,
      "outputs": [
        {
          "output_type": "execute_result",
          "data": {
            "text/plain": [
              "\"\\nimport pickle\\nwith open('scaler.pkl', 'wb') as f:\\n    pickle.dump(scaler, f)\\n\""
            ],
            "application/vnd.google.colaboratory.intrinsic+json": {
              "type": "string"
            }
          },
          "metadata": {},
          "execution_count": 17
        }
      ]
    },
    {
      "cell_type": "code",
      "source": [
        "# Get the title vectors for all items\n",
        "all_title_vectors = np.array(df['title_vectors'].tolist())\n",
        "\n",
        "\n",
        "# Remove duplicates from the dataframe\n",
        "df = df.drop_duplicates(subset='title')\n",
        "df.reset_index(drop=True)\n",
        "\n",
        "# Normalize the user ID for the particular user_id\n",
        "user_id = 'A2UXFNW9RTL4VM'  \n",
        "user_id_encoded = label_encoder.transform([user_id])\n",
        "normalized_user_id = scaler.transform([user_id_encoded])\n",
        "normalized_user_id = np.repeat(normalized_user_id, all_title_vectors.shape[0], axis=0)\n",
        "\n",
        "\n",
        "# Get the predicted recommendation score for each item for the given user_id\n",
        "predicted_scores = model.predict([all_title_vectors, normalized_user_id])\n",
        "\n",
        "\n",
        "\n",
        "# Sort the items based on their recommendation scores\n",
        "sorted_indices = np.argsort(predicted_scores, axis=0)[::-1].flatten()\n",
        "\n",
        "\n",
        "#print(sorted_indices)\n",
        "\n",
        "\n",
        "# Display the top N recommended items for the user\n",
        "\n",
        "N = 20\n",
        "recommended_indices = sorted_indices[:N]\n",
        "#print(recommended_indices)\n",
        "print(\"Product Recommendations for User: \", user_id)\n",
        "print()\n",
        "for i in recommended_indices:\n",
        "    print(df.iloc[i]['title'])\n",
        "\n",
        " \n",
        "      \n"
      ],
      "metadata": {
        "id": "SRdkfoaU0D9f",
        "colab": {
          "base_uri": "https://localhost:8080/"
        },
        "outputId": "11fe4dff-ae24-4f53-adf6-d99a2c023673"
      },
      "execution_count": 14,
      "outputs": [
        {
          "output_type": "stream",
          "name": "stdout",
          "text": [
            "70/70 [==============================] - 0s 910us/step\n",
            "Product Recommendations for User:  A2UXFNW9RTL4VM\n",
            "\n",
            "SEXYHAIR Style Hard Up Hard Holding Gel\n",
            "CHI Argan Oil\n",
            "Crabtree &amp; Evelyn Ultra-Moisturising Hand Cream Therapy, Evelyn Rose - 3.5 oz\n",
            "Noodle &amp; Boo Soothing Baby Body Wash for Gentle Baby Care\n",
            "Crabtree &amp; Evelyn Conditioning Hand Wash\n",
            "L'Occitane Moisturizing Hand Lotion\n",
            "Crabtree &amp; Evelyn Shave Cream\n",
            "Anthony Shave Cream\n",
            "Crabtree &amp; Evelyn Ultra-Moisturising Hand Therapy,Lavender,8.8 oz.\n",
            "AG Hair Smooth The Oil Smoothing Oil\n",
            "Noodle &amp; Boo Super Soft Moisturizing Lotion for Daily Baby Care, Sensitive Skin and Hypoallergenic\n",
            "CHI Argan Oil Plus Moringa Oil Shampoo\n",
            "Eau Thermale Av&egrave;ne Micellar Lotion\n",
            "Epicuren Discovery After Bath Body Moisturizer\n",
            "Crabtree &amp; Evelyn Moisturising Body Lotion\n",
            "Mustela Bath Oil, Gentle Baby Bath Oil with Natural Avocado Oil, for Dry Skin\n",
            "SABON Butter Cream\n",
            "Epicuren Discovery Micro-Derm Ultra-Refining Scrub\n",
            "Mustela Baby Oil, Moisturizing Oil for Baby Massage, Natural Avocado Oil, Pomegranate &amp; Sunflower Seed Oil\n",
            "L'Occitane Extra-Gentle Vegetable Based Soap Enriched with Shea Butter\n"
          ]
        }
      ]
    },
    {
      "cell_type": "code",
      "source": [],
      "metadata": {
        "id": "qCugbhCkD30H"
      },
      "execution_count": null,
      "outputs": []
    },
    {
      "cell_type": "code",
      "source": [],
      "metadata": {
        "id": "AJvTR-xhHJbz"
      },
      "execution_count": null,
      "outputs": []
    },
    {
      "cell_type": "code",
      "source": [],
      "metadata": {
        "id": "Ec7D66zgHJeE"
      },
      "execution_count": null,
      "outputs": []
    },
    {
      "cell_type": "code",
      "source": [],
      "metadata": {
        "id": "1kYovuTpHJg9"
      },
      "execution_count": null,
      "outputs": []
    },
    {
      "cell_type": "code",
      "source": [],
      "metadata": {
        "id": "X0iiZttDJBGD"
      },
      "execution_count": null,
      "outputs": []
    },
    {
      "cell_type": "code",
      "source": [],
      "metadata": {
        "id": "Yk3z-ytdJ1Xe"
      },
      "execution_count": null,
      "outputs": []
    },
    {
      "cell_type": "code",
      "source": [],
      "metadata": {
        "id": "Nrhf87IUJ8oA"
      },
      "execution_count": null,
      "outputs": []
    }
  ]
}