{
 "cells": [
  {
   "cell_type": "code",
   "execution_count": null,
   "metadata": {},
   "outputs": [],
   "source": [
    "import gradio as gr\n",
    "\n",
    "\n",
    "\n",
    "def predict(user):\n",
    "    \n",
    "    \n",
    "    \n",
    "    import pandas as pd\n",
    "    import surprise \n",
    "    from surprise.dump import dump,load\n",
    "    \n",
    "    colab_df = pd.read_csv('/colab_df.csv')\n",
    "\n",
    "    alg = load('/svd.pkl')[1]\n",
    "\n",
    "    items = colab_df['itemID'].unique()\n",
    "    bi_items = colab_df[colab_df.userID == user].itemID.unique()\n",
    "    anti_test = items[np.isin( items, bi_items) == False]\n",
    "\n",
    "\n",
    "    test = [[user, iid, 4] for iid in anti_test]\n",
    "    predictions = alg.test(test)\n",
    "    pred = pd.DataFrame(predictions)\n",
    "    pred = pred.sort_values(by='est', ascending=False)\n",
    "    rec = pd.DataFrame(pred.iid.head(10))\n",
    "    \n",
    "    return rec\n",
    "\n",
    "\n",
    "with gr.Blocks() as demo:\n",
    "    \n",
    "    gr.Markdown(\n",
    "        \"\"\"\n",
    "    # Recommendation Engine using SVD\n",
    "    \n",
    "    user-based collaborative filtering \n",
    "    \n",
    "    \"\"\"\n",
    "    )\n",
    "    user = gr.Textbox(label=\"User ID\")\n",
    "    output = gr.DataFrame(row_count = (2, \"dynamic\"), col_count=(1, \"fixed\"), label=\"Recommended products\")\n",
    "    greet_btn = gr.Button(\"Recommend\")\n",
    "    greet_btn.click(fn=predict, inputs=user, outputs=output)\n",
    "    \n",
    "    examples = gr.Examples(examples = [\"A3Z74TDRGD0HU\", \"A1FBAQLQTOQT4K\",\"AQKT85NW8Z5ZP\", \"A8QULA2ET6BGQ\"], inputs = user)\n",
    "    \n",
    "\n",
    "demo.launch()"
   ]
  }
 ],
 "metadata": {
  "kernelspec": {
   "display_name": "Python 3",
   "language": "python",
   "name": "python3"
  },
  "language_info": {
   "codemirror_mode": {
    "name": "ipython",
    "version": 3
   },
   "file_extension": ".py",
   "mimetype": "text/x-python",
   "name": "python",
   "nbconvert_exporter": "python",
   "pygments_lexer": "ipython3",
   "version": "3.8.5"
  }
 },
 "nbformat": 4,
 "nbformat_minor": 4
}
